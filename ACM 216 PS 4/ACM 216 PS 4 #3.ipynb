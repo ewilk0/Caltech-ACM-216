{
 "cells": [
  {
   "cell_type": "code",
   "execution_count": 23,
   "id": "7068fea4",
   "metadata": {},
   "outputs": [
    {
     "name": "stdout",
     "output_type": "stream",
     "text": [
      "Empirical time spent in SF: 0.334656\n",
      "Empirical time spent in LA: 0.445748\n",
      "Empirical time spent in LV: 0.219596\n",
      "Empirical number of total trips in a year:  50.51389590702375\n",
      "Empirical number of LA to SF trips:  16.000505305709954\n"
     ]
    }
   ],
   "source": [
    "import numpy as np\n",
    "\n",
    "state_space = ['SF', 'LA', 'LV']\n",
    "rates = {'SF' : 4, 'LA' : 4, 'LV' : 5}\n",
    "transitions = {'SF': [0, 0.5, 0.5], 'LA': [0.75, 0, 0.25], 'LV': [0, 1, 0]}\n",
    "\n",
    "iterations = 100000\n",
    "cutoff = 9000\n",
    "\n",
    "counts = {city : 0 for city in state_space}\n",
    "tot_time = 0\n",
    "tot_trips = [0]\n",
    "LA_to_SF = [0]\n",
    "curr_city = 'SF'\n",
    "\n",
    "for i in range(iterations):\n",
    "    curr_rate = rates[curr_city]\n",
    "    time_spent = np.random.exponential(1/curr_rate, 1)[0]\n",
    "    if i > cutoff:\n",
    "        counts[curr_city] += time_spent\n",
    "    tot_time += time_spent\n",
    "    if tot_time > 12:\n",
    "        tot_time -= 12\n",
    "        tot_trips.append(0)\n",
    "        LA_to_SF.append(0)\n",
    "    next_city = np.random.choice(state_space, size = 1, p = transitions[curr_city])[0]\n",
    "    if next_city == 'SF' and curr_city == 'LA':\n",
    "        LA_to_SF[-1] += 1\n",
    "    tot_trips[-1] += 1\n",
    "    curr_city = next_city\n",
    "\n",
    "LA_to_SF = LA_to_SF[:-1]\n",
    "tot_trips = tot_trips[:-1]\n",
    "\n",
    "print('Empirical time spent in SF: %f' %(counts['SF']/sum(counts.values())))\n",
    "print('Empirical time spent in LA: %f' %(counts['LA']/sum(counts.values())))\n",
    "print('Empirical time spent in LV: %f' %(counts['LV']/sum(counts.values())))\n",
    "\n",
    "print('Empirical number of total trips in a year: ', sum(tot_trips)/len(tot_trips))\n",
    "print('Empirical number of LA to SF trips: ', sum(LA_to_SF)/len(LA_to_SF))"
   ]
  }
 ],
 "metadata": {
  "kernelspec": {
   "display_name": "Python 3",
   "language": "python",
   "name": "python3"
  },
  "language_info": {
   "codemirror_mode": {
    "name": "ipython",
    "version": 3
   },
   "file_extension": ".py",
   "mimetype": "text/x-python",
   "name": "python",
   "nbconvert_exporter": "python",
   "pygments_lexer": "ipython3",
   "version": "3.9.14"
  }
 },
 "nbformat": 4,
 "nbformat_minor": 5
}
